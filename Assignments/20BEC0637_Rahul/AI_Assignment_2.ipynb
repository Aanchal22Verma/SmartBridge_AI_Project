{
  "nbformat": 4,
  "nbformat_minor": 0,
  "metadata": {
    "colab": {
      "provenance": []
    },
    "kernelspec": {
      "name": "python3",
      "display_name": "Python 3"
    },
    "language_info": {
      "name": "python"
    }
  },
  "cells": [
    {
      "cell_type": "code",
      "execution_count": null,
      "metadata": {
        "id": "_YbbmHy1PZeV"
      },
      "outputs": [],
      "source": [
        "#20BEC0637\n",
        "#Rahul\n",
        "#AI Smartbridge Externship\n",
        "#Assignment 2"
      ]
    },
    {
      "cell_type": "code",
      "source": [
        "######################################## TASK 1 #########################################\n",
        "#Read the dataset and do data pre-processing"
      ],
      "metadata": {
        "id": "6Jwp-mH8PlvC"
      },
      "execution_count": null,
      "outputs": []
    },
    {
      "cell_type": "code",
      "source": [
        "#importing the required modules\n",
        "import pandas as pd\n",
        "import numpy as np\n",
        "import matplotlib.pyplot as plt\n"
      ],
      "metadata": {
        "id": "clQ1Y2SdQPAu"
      },
      "execution_count": 3,
      "outputs": []
    },
    {
      "cell_type": "code",
      "source": [
        "df = pd.read_csv('/content/drug200.csv') # Reading the data\n",
        "df.head() # Visualizing the data\n"
      ],
      "metadata": {
        "colab": {
          "base_uri": "https://localhost:8080/",
          "height": 206
        },
        "id": "lnd9hlt-QA1H",
        "outputId": "e888334d-8efe-45c3-a406-369ea0ea25d1"
      },
      "execution_count": 5,
      "outputs": [
        {
          "output_type": "execute_result",
          "data": {
            "text/plain": [
              "   Age Sex      BP Cholesterol  Na_to_K   Drug\n",
              "0   23   F    HIGH        HIGH   25.355  DrugY\n",
              "1   47   M     LOW        HIGH   13.093  drugC\n",
              "2   47   M     LOW        HIGH   10.114  drugC\n",
              "3   28   F  NORMAL        HIGH    7.798  drugX\n",
              "4   61   F     LOW        HIGH   18.043  DrugY"
            ],
            "text/html": [
              "\n",
              "  <div id=\"df-cd5f4393-b9fa-4979-9a75-547231990760\">\n",
              "    <div class=\"colab-df-container\">\n",
              "      <div>\n",
              "<style scoped>\n",
              "    .dataframe tbody tr th:only-of-type {\n",
              "        vertical-align: middle;\n",
              "    }\n",
              "\n",
              "    .dataframe tbody tr th {\n",
              "        vertical-align: top;\n",
              "    }\n",
              "\n",
              "    .dataframe thead th {\n",
              "        text-align: right;\n",
              "    }\n",
              "</style>\n",
              "<table border=\"1\" class=\"dataframe\">\n",
              "  <thead>\n",
              "    <tr style=\"text-align: right;\">\n",
              "      <th></th>\n",
              "      <th>Age</th>\n",
              "      <th>Sex</th>\n",
              "      <th>BP</th>\n",
              "      <th>Cholesterol</th>\n",
              "      <th>Na_to_K</th>\n",
              "      <th>Drug</th>\n",
              "    </tr>\n",
              "  </thead>\n",
              "  <tbody>\n",
              "    <tr>\n",
              "      <th>0</th>\n",
              "      <td>23</td>\n",
              "      <td>F</td>\n",
              "      <td>HIGH</td>\n",
              "      <td>HIGH</td>\n",
              "      <td>25.355</td>\n",
              "      <td>DrugY</td>\n",
              "    </tr>\n",
              "    <tr>\n",
              "      <th>1</th>\n",
              "      <td>47</td>\n",
              "      <td>M</td>\n",
              "      <td>LOW</td>\n",
              "      <td>HIGH</td>\n",
              "      <td>13.093</td>\n",
              "      <td>drugC</td>\n",
              "    </tr>\n",
              "    <tr>\n",
              "      <th>2</th>\n",
              "      <td>47</td>\n",
              "      <td>M</td>\n",
              "      <td>LOW</td>\n",
              "      <td>HIGH</td>\n",
              "      <td>10.114</td>\n",
              "      <td>drugC</td>\n",
              "    </tr>\n",
              "    <tr>\n",
              "      <th>3</th>\n",
              "      <td>28</td>\n",
              "      <td>F</td>\n",
              "      <td>NORMAL</td>\n",
              "      <td>HIGH</td>\n",
              "      <td>7.798</td>\n",
              "      <td>drugX</td>\n",
              "    </tr>\n",
              "    <tr>\n",
              "      <th>4</th>\n",
              "      <td>61</td>\n",
              "      <td>F</td>\n",
              "      <td>LOW</td>\n",
              "      <td>HIGH</td>\n",
              "      <td>18.043</td>\n",
              "      <td>DrugY</td>\n",
              "    </tr>\n",
              "  </tbody>\n",
              "</table>\n",
              "</div>\n",
              "      <button class=\"colab-df-convert\" onclick=\"convertToInteractive('df-cd5f4393-b9fa-4979-9a75-547231990760')\"\n",
              "              title=\"Convert this dataframe to an interactive table.\"\n",
              "              style=\"display:none;\">\n",
              "        \n",
              "  <svg xmlns=\"http://www.w3.org/2000/svg\" height=\"24px\"viewBox=\"0 0 24 24\"\n",
              "       width=\"24px\">\n",
              "    <path d=\"M0 0h24v24H0V0z\" fill=\"none\"/>\n",
              "    <path d=\"M18.56 5.44l.94 2.06.94-2.06 2.06-.94-2.06-.94-.94-2.06-.94 2.06-2.06.94zm-11 1L8.5 8.5l.94-2.06 2.06-.94-2.06-.94L8.5 2.5l-.94 2.06-2.06.94zm10 10l.94 2.06.94-2.06 2.06-.94-2.06-.94-.94-2.06-.94 2.06-2.06.94z\"/><path d=\"M17.41 7.96l-1.37-1.37c-.4-.4-.92-.59-1.43-.59-.52 0-1.04.2-1.43.59L10.3 9.45l-7.72 7.72c-.78.78-.78 2.05 0 2.83L4 21.41c.39.39.9.59 1.41.59.51 0 1.02-.2 1.41-.59l7.78-7.78 2.81-2.81c.8-.78.8-2.07 0-2.86zM5.41 20L4 18.59l7.72-7.72 1.47 1.35L5.41 20z\"/>\n",
              "  </svg>\n",
              "      </button>\n",
              "      \n",
              "  <style>\n",
              "    .colab-df-container {\n",
              "      display:flex;\n",
              "      flex-wrap:wrap;\n",
              "      gap: 12px;\n",
              "    }\n",
              "\n",
              "    .colab-df-convert {\n",
              "      background-color: #E8F0FE;\n",
              "      border: none;\n",
              "      border-radius: 50%;\n",
              "      cursor: pointer;\n",
              "      display: none;\n",
              "      fill: #1967D2;\n",
              "      height: 32px;\n",
              "      padding: 0 0 0 0;\n",
              "      width: 32px;\n",
              "    }\n",
              "\n",
              "    .colab-df-convert:hover {\n",
              "      background-color: #E2EBFA;\n",
              "      box-shadow: 0px 1px 2px rgba(60, 64, 67, 0.3), 0px 1px 3px 1px rgba(60, 64, 67, 0.15);\n",
              "      fill: #174EA6;\n",
              "    }\n",
              "\n",
              "    [theme=dark] .colab-df-convert {\n",
              "      background-color: #3B4455;\n",
              "      fill: #D2E3FC;\n",
              "    }\n",
              "\n",
              "    [theme=dark] .colab-df-convert:hover {\n",
              "      background-color: #434B5C;\n",
              "      box-shadow: 0px 1px 3px 1px rgba(0, 0, 0, 0.15);\n",
              "      filter: drop-shadow(0px 1px 2px rgba(0, 0, 0, 0.3));\n",
              "      fill: #FFFFFF;\n",
              "    }\n",
              "  </style>\n",
              "\n",
              "      <script>\n",
              "        const buttonEl =\n",
              "          document.querySelector('#df-cd5f4393-b9fa-4979-9a75-547231990760 button.colab-df-convert');\n",
              "        buttonEl.style.display =\n",
              "          google.colab.kernel.accessAllowed ? 'block' : 'none';\n",
              "\n",
              "        async function convertToInteractive(key) {\n",
              "          const element = document.querySelector('#df-cd5f4393-b9fa-4979-9a75-547231990760');\n",
              "          const dataTable =\n",
              "            await google.colab.kernel.invokeFunction('convertToInteractive',\n",
              "                                                     [key], {});\n",
              "          if (!dataTable) return;\n",
              "\n",
              "          const docLinkHtml = 'Like what you see? Visit the ' +\n",
              "            '<a target=\"_blank\" href=https://colab.research.google.com/notebooks/data_table.ipynb>data table notebook</a>'\n",
              "            + ' to learn more about interactive tables.';\n",
              "          element.innerHTML = '';\n",
              "          dataTable['output_type'] = 'display_data';\n",
              "          await google.colab.output.renderOutput(dataTable, element);\n",
              "          const docLink = document.createElement('div');\n",
              "          docLink.innerHTML = docLinkHtml;\n",
              "          element.appendChild(docLink);\n",
              "        }\n",
              "      </script>\n",
              "    </div>\n",
              "  </div>\n",
              "  "
            ]
          },
          "metadata": {},
          "execution_count": 5
        }
      ]
    },
    {
      "cell_type": "code",
      "source": [
        "df.isnull().sum() # Checking for null values\n"
      ],
      "metadata": {
        "colab": {
          "base_uri": "https://localhost:8080/"
        },
        "id": "vr99gJvmQegY",
        "outputId": "690676b5-9f56-472a-b13c-faa767d3a996"
      },
      "execution_count": 6,
      "outputs": [
        {
          "output_type": "execute_result",
          "data": {
            "text/plain": [
              "Age            0\n",
              "Sex            0\n",
              "BP             0\n",
              "Cholesterol    0\n",
              "Na_to_K        0\n",
              "Drug           0\n",
              "dtype: int64"
            ]
          },
          "metadata": {},
          "execution_count": 6
        }
      ]
    },
    {
      "cell_type": "code",
      "source": [
        "df['Drug'].unique() # Finding unique category\n"
      ],
      "metadata": {
        "colab": {
          "base_uri": "https://localhost:8080/"
        },
        "id": "aAci1gE0Qluw",
        "outputId": "f1872727-967f-4171-90be-b20120a85015"
      },
      "execution_count": 7,
      "outputs": [
        {
          "output_type": "execute_result",
          "data": {
            "text/plain": [
              "array(['DrugY', 'drugC', 'drugX', 'drugA', 'drugB'], dtype=object)"
            ]
          },
          "metadata": {},
          "execution_count": 7
        }
      ]
    },
    {
      "cell_type": "code",
      "source": [
        "df['Drug'].value_counts() # Finding the count of observations based on unique value"
      ],
      "metadata": {
        "colab": {
          "base_uri": "https://localhost:8080/"
        },
        "id": "iPglky2DQn1M",
        "outputId": "32e7f0af-4c90-4314-a7c5-9105319ebcab"
      },
      "execution_count": 8,
      "outputs": [
        {
          "output_type": "execute_result",
          "data": {
            "text/plain": [
              "DrugY    91\n",
              "drugX    54\n",
              "drugA    23\n",
              "drugC    16\n",
              "drugB    16\n",
              "Name: Drug, dtype: int64"
            ]
          },
          "metadata": {},
          "execution_count": 8
        }
      ]
    },
    {
      "cell_type": "code",
      "source": [
        "# Splitting the data\n",
        "x = df.iloc[:,1:5].values\n",
        "x"
      ],
      "metadata": {
        "colab": {
          "base_uri": "https://localhost:8080/"
        },
        "id": "u_YLCQ4YQu2f",
        "outputId": "12793acb-dd10-4670-d19e-222ca38c7f37"
      },
      "execution_count": 9,
      "outputs": [
        {
          "output_type": "execute_result",
          "data": {
            "text/plain": [
              "array([['F', 'HIGH', 'HIGH', 25.355],\n",
              "       ['M', 'LOW', 'HIGH', 13.093],\n",
              "       ['M', 'LOW', 'HIGH', 10.114],\n",
              "       ['F', 'NORMAL', 'HIGH', 7.798],\n",
              "       ['F', 'LOW', 'HIGH', 18.043],\n",
              "       ['F', 'NORMAL', 'HIGH', 8.607],\n",
              "       ['F', 'NORMAL', 'HIGH', 16.275],\n",
              "       ['M', 'LOW', 'HIGH', 11.037],\n",
              "       ['M', 'NORMAL', 'HIGH', 15.171],\n",
              "       ['M', 'LOW', 'NORMAL', 19.368],\n",
              "       ['F', 'LOW', 'HIGH', 11.767],\n",
              "       ['F', 'HIGH', 'NORMAL', 19.199],\n",
              "       ['M', 'LOW', 'HIGH', 15.376],\n",
              "       ['F', 'LOW', 'HIGH', 20.942],\n",
              "       ['F', 'NORMAL', 'HIGH', 12.703],\n",
              "       ['F', 'HIGH', 'NORMAL', 15.516],\n",
              "       ['M', 'LOW', 'NORMAL', 11.455],\n",
              "       ['M', 'HIGH', 'HIGH', 13.972],\n",
              "       ['M', 'LOW', 'HIGH', 7.298],\n",
              "       ['F', 'HIGH', 'NORMAL', 25.974],\n",
              "       ['M', 'LOW', 'NORMAL', 19.128],\n",
              "       ['M', 'NORMAL', 'HIGH', 25.917],\n",
              "       ['M', 'LOW', 'NORMAL', 30.568],\n",
              "       ['F', 'LOW', 'HIGH', 15.036],\n",
              "       ['F', 'LOW', 'HIGH', 33.486],\n",
              "       ['F', 'HIGH', 'NORMAL', 18.809],\n",
              "       ['M', 'HIGH', 'HIGH', 30.366],\n",
              "       ['F', 'NORMAL', 'NORMAL', 9.381],\n",
              "       ['F', 'LOW', 'NORMAL', 22.697],\n",
              "       ['M', 'LOW', 'HIGH', 17.951],\n",
              "       ['F', 'NORMAL', 'NORMAL', 8.75],\n",
              "       ['M', 'HIGH', 'HIGH', 9.567],\n",
              "       ['M', 'LOW', 'NORMAL', 11.014],\n",
              "       ['F', 'HIGH', 'NORMAL', 31.876],\n",
              "       ['M', 'NORMAL', 'HIGH', 14.133],\n",
              "       ['M', 'NORMAL', 'NORMAL', 7.285],\n",
              "       ['M', 'HIGH', 'NORMAL', 9.445],\n",
              "       ['M', 'LOW', 'NORMAL', 13.938],\n",
              "       ['F', 'NORMAL', 'NORMAL', 9.709],\n",
              "       ['M', 'NORMAL', 'HIGH', 9.084],\n",
              "       ['F', 'NORMAL', 'HIGH', 19.221],\n",
              "       ['F', 'HIGH', 'NORMAL', 14.239],\n",
              "       ['M', 'NORMAL', 'NORMAL', 15.79],\n",
              "       ['M', 'NORMAL', 'HIGH', 12.26],\n",
              "       ['F', 'NORMAL', 'NORMAL', 12.295],\n",
              "       ['F', 'NORMAL', 'NORMAL', 8.107],\n",
              "       ['F', 'HIGH', 'HIGH', 13.091],\n",
              "       ['M', 'LOW', 'HIGH', 10.291],\n",
              "       ['M', 'NORMAL', 'HIGH', 31.686],\n",
              "       ['F', 'LOW', 'HIGH', 19.796],\n",
              "       ['F', 'HIGH', 'HIGH', 19.416],\n",
              "       ['M', 'NORMAL', 'NORMAL', 10.898],\n",
              "       ['M', 'LOW', 'NORMAL', 27.183],\n",
              "       ['F', 'HIGH', 'NORMAL', 18.457],\n",
              "       ['F', 'HIGH', 'NORMAL', 10.189],\n",
              "       ['F', 'LOW', 'HIGH', 14.16],\n",
              "       ['M', 'HIGH', 'NORMAL', 11.34],\n",
              "       ['M', 'HIGH', 'HIGH', 27.826],\n",
              "       ['M', 'NORMAL', 'NORMAL', 10.091],\n",
              "       ['M', 'HIGH', 'HIGH', 18.703],\n",
              "       ['F', 'LOW', 'NORMAL', 29.875],\n",
              "       ['M', 'HIGH', 'NORMAL', 9.475],\n",
              "       ['M', 'LOW', 'NORMAL', 20.693],\n",
              "       ['M', 'LOW', 'NORMAL', 8.37],\n",
              "       ['F', 'HIGH', 'HIGH', 13.303],\n",
              "       ['F', 'NORMAL', 'NORMAL', 27.05],\n",
              "       ['M', 'HIGH', 'HIGH', 12.856],\n",
              "       ['M', 'NORMAL', 'NORMAL', 10.832],\n",
              "       ['M', 'NORMAL', 'HIGH', 24.658],\n",
              "       ['F', 'HIGH', 'NORMAL', 24.276],\n",
              "       ['M', 'HIGH', 'HIGH', 13.967],\n",
              "       ['F', 'NORMAL', 'HIGH', 19.675],\n",
              "       ['F', 'NORMAL', 'HIGH', 10.605],\n",
              "       ['F', 'NORMAL', 'NORMAL', 22.905],\n",
              "       ['M', 'HIGH', 'NORMAL', 17.069],\n",
              "       ['M', 'LOW', 'NORMAL', 20.909],\n",
              "       ['F', 'HIGH', 'HIGH', 11.198],\n",
              "       ['F', 'HIGH', 'NORMAL', 19.161],\n",
              "       ['F', 'HIGH', 'HIGH', 13.313],\n",
              "       ['F', 'LOW', 'NORMAL', 10.84],\n",
              "       ['M', 'HIGH', 'HIGH', 13.934],\n",
              "       ['M', 'NORMAL', 'HIGH', 7.761],\n",
              "       ['F', 'LOW', 'HIGH', 9.712],\n",
              "       ['F', 'HIGH', 'NORMAL', 11.326],\n",
              "       ['F', 'LOW', 'HIGH', 10.067],\n",
              "       ['M', 'HIGH', 'HIGH', 13.935],\n",
              "       ['F', 'NORMAL', 'HIGH', 13.597],\n",
              "       ['M', 'LOW', 'HIGH', 15.478],\n",
              "       ['F', 'HIGH', 'NORMAL', 23.091],\n",
              "       ['F', 'NORMAL', 'NORMAL', 17.211],\n",
              "       ['M', 'NORMAL', 'HIGH', 16.594],\n",
              "       ['M', 'HIGH', 'NORMAL', 15.156],\n",
              "       ['F', 'HIGH', 'HIGH', 29.45],\n",
              "       ['F', 'LOW', 'NORMAL', 29.271],\n",
              "       ['M', 'LOW', 'HIGH', 15.015],\n",
              "       ['M', 'LOW', 'NORMAL', 11.424],\n",
              "       ['F', 'LOW', 'HIGH', 38.247],\n",
              "       ['F', 'HIGH', 'HIGH', 25.395],\n",
              "       ['M', 'HIGH', 'NORMAL', 35.639],\n",
              "       ['F', 'HIGH', 'NORMAL', 16.725],\n",
              "       ['M', 'HIGH', 'NORMAL', 11.871],\n",
              "       ['F', 'HIGH', 'HIGH', 12.854],\n",
              "       ['F', 'LOW', 'HIGH', 13.127],\n",
              "       ['M', 'NORMAL', 'HIGH', 8.966],\n",
              "       ['M', 'HIGH', 'NORMAL', 28.294],\n",
              "       ['M', 'LOW', 'NORMAL', 8.968],\n",
              "       ['M', 'NORMAL', 'HIGH', 11.953],\n",
              "       ['M', 'LOW', 'HIGH', 20.013],\n",
              "       ['M', 'HIGH', 'NORMAL', 9.677],\n",
              "       ['M', 'NORMAL', 'HIGH', 16.85],\n",
              "       ['M', 'HIGH', 'HIGH', 7.49],\n",
              "       ['F', 'NORMAL', 'NORMAL', 6.683],\n",
              "       ['M', 'LOW', 'NORMAL', 9.17],\n",
              "       ['F', 'LOW', 'NORMAL', 13.769],\n",
              "       ['F', 'NORMAL', 'NORMAL', 9.281],\n",
              "       ['M', 'HIGH', 'HIGH', 18.295],\n",
              "       ['M', 'NORMAL', 'NORMAL', 9.514],\n",
              "       ['F', 'NORMAL', 'HIGH', 10.103],\n",
              "       ['F', 'HIGH', 'NORMAL', 10.292],\n",
              "       ['F', 'HIGH', 'HIGH', 25.475],\n",
              "       ['M', 'NORMAL', 'HIGH', 27.064],\n",
              "       ['M', 'HIGH', 'NORMAL', 17.206],\n",
              "       ['M', 'NORMAL', 'HIGH', 22.456],\n",
              "       ['F', 'NORMAL', 'HIGH', 16.753],\n",
              "       ['F', 'HIGH', 'NORMAL', 12.495],\n",
              "       ['F', 'HIGH', 'NORMAL', 25.969],\n",
              "       ['M', 'HIGH', 'HIGH', 16.347],\n",
              "       ['M', 'NORMAL', 'NORMAL', 7.845],\n",
              "       ['M', 'LOW', 'NORMAL', 33.542],\n",
              "       ['F', 'NORMAL', 'HIGH', 7.477],\n",
              "       ['F', 'NORMAL', 'HIGH', 20.489],\n",
              "       ['M', 'LOW', 'NORMAL', 32.922],\n",
              "       ['M', 'LOW', 'NORMAL', 13.598],\n",
              "       ['M', 'NORMAL', 'HIGH', 25.786],\n",
              "       ['F', 'HIGH', 'HIGH', 21.036],\n",
              "       ['M', 'LOW', 'NORMAL', 11.939],\n",
              "       ['F', 'HIGH', 'HIGH', 10.977],\n",
              "       ['F', 'HIGH', 'HIGH', 12.894],\n",
              "       ['M', 'HIGH', 'NORMAL', 11.343],\n",
              "       ['F', 'NORMAL', 'HIGH', 10.065],\n",
              "       ['M', 'HIGH', 'NORMAL', 6.269],\n",
              "       ['F', 'LOW', 'NORMAL', 25.741],\n",
              "       ['M', 'HIGH', 'NORMAL', 8.621],\n",
              "       ['M', 'HIGH', 'NORMAL', 15.436],\n",
              "       ['M', 'HIGH', 'HIGH', 9.664],\n",
              "       ['M', 'NORMAL', 'HIGH', 9.443],\n",
              "       ['F', 'LOW', 'NORMAL', 12.006],\n",
              "       ['F', 'HIGH', 'NORMAL', 12.307],\n",
              "       ['F', 'LOW', 'NORMAL', 7.34],\n",
              "       ['M', 'LOW', 'HIGH', 8.151],\n",
              "       ['M', 'HIGH', 'NORMAL', 8.7],\n",
              "       ['M', 'HIGH', 'HIGH', 11.009],\n",
              "       ['M', 'NORMAL', 'NORMAL', 7.261],\n",
              "       ['F', 'LOW', 'NORMAL', 14.642],\n",
              "       ['M', 'LOW', 'NORMAL', 16.724],\n",
              "       ['M', 'LOW', 'HIGH', 10.537],\n",
              "       ['M', 'HIGH', 'NORMAL', 11.227],\n",
              "       ['M', 'LOW', 'HIGH', 22.963],\n",
              "       ['F', 'LOW', 'HIGH', 10.444],\n",
              "       ['F', 'LOW', 'NORMAL', 12.923],\n",
              "       ['F', 'NORMAL', 'HIGH', 10.443],\n",
              "       ['F', 'HIGH', 'NORMAL', 9.945],\n",
              "       ['M', 'NORMAL', 'NORMAL', 12.859],\n",
              "       ['F', 'HIGH', 'NORMAL', 28.632],\n",
              "       ['M', 'HIGH', 'NORMAL', 19.007],\n",
              "       ['M', 'LOW', 'HIGH', 18.295],\n",
              "       ['F', 'LOW', 'HIGH', 26.645],\n",
              "       ['F', 'NORMAL', 'HIGH', 14.216],\n",
              "       ['F', 'LOW', 'NORMAL', 23.003],\n",
              "       ['F', 'HIGH', 'HIGH', 11.262],\n",
              "       ['F', 'NORMAL', 'HIGH', 12.879],\n",
              "       ['M', 'LOW', 'NORMAL', 10.017],\n",
              "       ['F', 'NORMAL', 'NORMAL', 17.225],\n",
              "       ['F', 'LOW', 'NORMAL', 18.739],\n",
              "       ['M', 'HIGH', 'NORMAL', 12.766],\n",
              "       ['F', 'HIGH', 'HIGH', 18.348],\n",
              "       ['M', 'HIGH', 'NORMAL', 10.446],\n",
              "       ['M', 'NORMAL', 'HIGH', 19.011],\n",
              "       ['M', 'NORMAL', 'HIGH', 15.969],\n",
              "       ['F', 'NORMAL', 'HIGH', 15.891],\n",
              "       ['F', 'HIGH', 'NORMAL', 22.818],\n",
              "       ['F', 'NORMAL', 'HIGH', 13.884],\n",
              "       ['F', 'LOW', 'NORMAL', 11.686],\n",
              "       ['F', 'HIGH', 'NORMAL', 15.49],\n",
              "       ['F', 'HIGH', 'HIGH', 37.188],\n",
              "       ['F', 'NORMAL', 'NORMAL', 25.893],\n",
              "       ['M', 'HIGH', 'HIGH', 9.849],\n",
              "       ['M', 'HIGH', 'HIGH', 10.403],\n",
              "       ['M', 'HIGH', 'NORMAL', 34.997],\n",
              "       ['M', 'HIGH', 'NORMAL', 20.932],\n",
              "       ['M', 'HIGH', 'HIGH', 18.991],\n",
              "       ['M', 'HIGH', 'HIGH', 8.011],\n",
              "       ['M', 'LOW', 'HIGH', 16.31],\n",
              "       ['M', 'LOW', 'HIGH', 6.769],\n",
              "       ['F', 'HIGH', 'HIGH', 34.686],\n",
              "       ['F', 'LOW', 'HIGH', 11.567],\n",
              "       ['M', 'LOW', 'HIGH', 12.006],\n",
              "       ['M', 'NORMAL', 'HIGH', 9.894],\n",
              "       ['M', 'NORMAL', 'NORMAL', 14.02],\n",
              "       ['F', 'LOW', 'NORMAL', 11.349]], dtype=object)"
            ]
          },
          "metadata": {},
          "execution_count": 9
        }
      ]
    },
    {
      "cell_type": "code",
      "source": [
        "y = pd.get_dummies(df.iloc[:,5:]).values\n",
        "y\n"
      ],
      "metadata": {
        "colab": {
          "base_uri": "https://localhost:8080/"
        },
        "id": "GI8MGlRtQ3d0",
        "outputId": "34177416-9c8e-4b5a-93e4-6af16b2de6f5"
      },
      "execution_count": 10,
      "outputs": [
        {
          "output_type": "execute_result",
          "data": {
            "text/plain": [
              "array([[1, 0, 0, 0, 0],\n",
              "       [0, 0, 0, 1, 0],\n",
              "       [0, 0, 0, 1, 0],\n",
              "       [0, 0, 0, 0, 1],\n",
              "       [1, 0, 0, 0, 0],\n",
              "       [0, 0, 0, 0, 1],\n",
              "       [1, 0, 0, 0, 0],\n",
              "       [0, 0, 0, 1, 0],\n",
              "       [1, 0, 0, 0, 0],\n",
              "       [1, 0, 0, 0, 0],\n",
              "       [0, 0, 0, 1, 0],\n",
              "       [1, 0, 0, 0, 0],\n",
              "       [1, 0, 0, 0, 0],\n",
              "       [1, 0, 0, 0, 0],\n",
              "       [0, 0, 0, 0, 1],\n",
              "       [1, 0, 0, 0, 0],\n",
              "       [0, 0, 0, 0, 1],\n",
              "       [0, 1, 0, 0, 0],\n",
              "       [0, 0, 0, 1, 0],\n",
              "       [1, 0, 0, 0, 0],\n",
              "       [1, 0, 0, 0, 0],\n",
              "       [1, 0, 0, 0, 0],\n",
              "       [1, 0, 0, 0, 0],\n",
              "       [1, 0, 0, 0, 0],\n",
              "       [1, 0, 0, 0, 0],\n",
              "       [1, 0, 0, 0, 0],\n",
              "       [1, 0, 0, 0, 0],\n",
              "       [0, 0, 0, 0, 1],\n",
              "       [1, 0, 0, 0, 0],\n",
              "       [1, 0, 0, 0, 0],\n",
              "       [0, 0, 0, 0, 1],\n",
              "       [0, 0, 1, 0, 0],\n",
              "       [0, 0, 0, 0, 1],\n",
              "       [1, 0, 0, 0, 0],\n",
              "       [0, 0, 0, 0, 1],\n",
              "       [0, 0, 0, 0, 1],\n",
              "       [0, 1, 0, 0, 0],\n",
              "       [0, 0, 0, 0, 1],\n",
              "       [0, 0, 0, 0, 1],\n",
              "       [0, 0, 0, 0, 1],\n",
              "       [1, 0, 0, 0, 0],\n",
              "       [0, 0, 1, 0, 0],\n",
              "       [1, 0, 0, 0, 0],\n",
              "       [0, 0, 0, 0, 1],\n",
              "       [0, 0, 0, 0, 1],\n",
              "       [0, 0, 0, 0, 1],\n",
              "       [0, 1, 0, 0, 0],\n",
              "       [0, 0, 0, 1, 0],\n",
              "       [1, 0, 0, 0, 0],\n",
              "       [1, 0, 0, 0, 0],\n",
              "       [1, 0, 0, 0, 0],\n",
              "       [0, 0, 0, 0, 1],\n",
              "       [1, 0, 0, 0, 0],\n",
              "       [1, 0, 0, 0, 0],\n",
              "       [0, 0, 1, 0, 0],\n",
              "       [0, 0, 0, 1, 0],\n",
              "       [0, 0, 1, 0, 0],\n",
              "       [1, 0, 0, 0, 0],\n",
              "       [0, 0, 0, 0, 1],\n",
              "       [1, 0, 0, 0, 0],\n",
              "       [1, 0, 0, 0, 0],\n",
              "       [0, 1, 0, 0, 0],\n",
              "       [1, 0, 0, 0, 0],\n",
              "       [0, 0, 0, 0, 1],\n",
              "       [0, 0, 1, 0, 0],\n",
              "       [1, 0, 0, 0, 0],\n",
              "       [0, 1, 0, 0, 0],\n",
              "       [0, 0, 0, 0, 1],\n",
              "       [1, 0, 0, 0, 0],\n",
              "       [1, 0, 0, 0, 0],\n",
              "       [0, 0, 1, 0, 0],\n",
              "       [1, 0, 0, 0, 0],\n",
              "       [0, 0, 0, 0, 1],\n",
              "       [1, 0, 0, 0, 0],\n",
              "       [1, 0, 0, 0, 0],\n",
              "       [1, 0, 0, 0, 0],\n",
              "       [0, 1, 0, 0, 0],\n",
              "       [1, 0, 0, 0, 0],\n",
              "       [0, 1, 0, 0, 0],\n",
              "       [0, 0, 0, 0, 1],\n",
              "       [0, 0, 1, 0, 0],\n",
              "       [0, 0, 0, 0, 1],\n",
              "       [0, 0, 0, 1, 0],\n",
              "       [0, 1, 0, 0, 0],\n",
              "       [0, 0, 0, 1, 0],\n",
              "       [0, 0, 1, 0, 0],\n",
              "       [0, 0, 0, 0, 1],\n",
              "       [1, 0, 0, 0, 0],\n",
              "       [1, 0, 0, 0, 0],\n",
              "       [1, 0, 0, 0, 0],\n",
              "       [1, 0, 0, 0, 0],\n",
              "       [1, 0, 0, 0, 0],\n",
              "       [1, 0, 0, 0, 0],\n",
              "       [1, 0, 0, 0, 0],\n",
              "       [1, 0, 0, 0, 0],\n",
              "       [0, 0, 0, 0, 1],\n",
              "       [1, 0, 0, 0, 0],\n",
              "       [1, 0, 0, 0, 0],\n",
              "       [1, 0, 0, 0, 0],\n",
              "       [1, 0, 0, 0, 0],\n",
              "       [0, 1, 0, 0, 0],\n",
              "       [0, 1, 0, 0, 0],\n",
              "       [0, 0, 0, 1, 0],\n",
              "       [0, 0, 0, 0, 1],\n",
              "       [1, 0, 0, 0, 0],\n",
              "       [0, 0, 0, 0, 1],\n",
              "       [0, 0, 0, 0, 1],\n",
              "       [1, 0, 0, 0, 0],\n",
              "       [0, 0, 1, 0, 0],\n",
              "       [1, 0, 0, 0, 0],\n",
              "       [0, 1, 0, 0, 0],\n",
              "       [0, 0, 0, 0, 1],\n",
              "       [0, 0, 0, 0, 1],\n",
              "       [0, 0, 0, 0, 1],\n",
              "       [0, 0, 0, 0, 1],\n",
              "       [1, 0, 0, 0, 0],\n",
              "       [0, 0, 0, 0, 1],\n",
              "       [0, 0, 0, 0, 1],\n",
              "       [0, 1, 0, 0, 0],\n",
              "       [1, 0, 0, 0, 0],\n",
              "       [1, 0, 0, 0, 0],\n",
              "       [1, 0, 0, 0, 0],\n",
              "       [1, 0, 0, 0, 0],\n",
              "       [1, 0, 0, 0, 0],\n",
              "       [0, 0, 1, 0, 0],\n",
              "       [1, 0, 0, 0, 0],\n",
              "       [1, 0, 0, 0, 0],\n",
              "       [0, 0, 0, 0, 1],\n",
              "       [1, 0, 0, 0, 0],\n",
              "       [0, 0, 0, 0, 1],\n",
              "       [1, 0, 0, 0, 0],\n",
              "       [1, 0, 0, 0, 0],\n",
              "       [0, 0, 0, 0, 1],\n",
              "       [1, 0, 0, 0, 0],\n",
              "       [1, 0, 0, 0, 0],\n",
              "       [0, 0, 0, 0, 1],\n",
              "       [0, 0, 1, 0, 0],\n",
              "       [0, 1, 0, 0, 0],\n",
              "       [0, 0, 1, 0, 0],\n",
              "       [0, 0, 0, 0, 1],\n",
              "       [0, 1, 0, 0, 0],\n",
              "       [1, 0, 0, 0, 0],\n",
              "       [0, 0, 1, 0, 0],\n",
              "       [1, 0, 0, 0, 0],\n",
              "       [0, 1, 0, 0, 0],\n",
              "       [0, 0, 0, 0, 1],\n",
              "       [0, 0, 0, 0, 1],\n",
              "       [0, 1, 0, 0, 0],\n",
              "       [0, 0, 0, 0, 1],\n",
              "       [0, 0, 0, 1, 0],\n",
              "       [0, 1, 0, 0, 0],\n",
              "       [0, 0, 1, 0, 0],\n",
              "       [0, 0, 0, 0, 1],\n",
              "       [0, 0, 0, 0, 1],\n",
              "       [1, 0, 0, 0, 0],\n",
              "       [0, 0, 0, 1, 0],\n",
              "       [0, 1, 0, 0, 0],\n",
              "       [1, 0, 0, 0, 0],\n",
              "       [0, 0, 0, 1, 0],\n",
              "       [0, 0, 0, 0, 1],\n",
              "       [0, 0, 0, 0, 1],\n",
              "       [0, 0, 1, 0, 0],\n",
              "       [0, 0, 0, 0, 1],\n",
              "       [1, 0, 0, 0, 0],\n",
              "       [1, 0, 0, 0, 0],\n",
              "       [1, 0, 0, 0, 0],\n",
              "       [1, 0, 0, 0, 0],\n",
              "       [0, 0, 0, 0, 1],\n",
              "       [1, 0, 0, 0, 0],\n",
              "       [0, 1, 0, 0, 0],\n",
              "       [0, 0, 0, 0, 1],\n",
              "       [0, 0, 0, 0, 1],\n",
              "       [1, 0, 0, 0, 0],\n",
              "       [1, 0, 0, 0, 0],\n",
              "       [0, 1, 0, 0, 0],\n",
              "       [1, 0, 0, 0, 0],\n",
              "       [0, 1, 0, 0, 0],\n",
              "       [1, 0, 0, 0, 0],\n",
              "       [1, 0, 0, 0, 0],\n",
              "       [1, 0, 0, 0, 0],\n",
              "       [1, 0, 0, 0, 0],\n",
              "       [0, 0, 0, 0, 1],\n",
              "       [0, 0, 0, 0, 1],\n",
              "       [1, 0, 0, 0, 0],\n",
              "       [1, 0, 0, 0, 0],\n",
              "       [1, 0, 0, 0, 0],\n",
              "       [0, 0, 1, 0, 0],\n",
              "       [0, 1, 0, 0, 0],\n",
              "       [1, 0, 0, 0, 0],\n",
              "       [1, 0, 0, 0, 0],\n",
              "       [1, 0, 0, 0, 0],\n",
              "       [0, 1, 0, 0, 0],\n",
              "       [1, 0, 0, 0, 0],\n",
              "       [0, 0, 0, 1, 0],\n",
              "       [1, 0, 0, 0, 0],\n",
              "       [0, 0, 0, 1, 0],\n",
              "       [0, 0, 0, 1, 0],\n",
              "       [0, 0, 0, 0, 1],\n",
              "       [0, 0, 0, 0, 1],\n",
              "       [0, 0, 0, 0, 1]], dtype=uint8)"
            ]
          },
          "metadata": {},
          "execution_count": 10
        }
      ]
    },
    {
      "cell_type": "code",
      "source": [
        "# Splitting the data into train and test\n",
        "from sklearn.model_selection import train_test_split\n",
        "from keras.models import Sequential\n",
        "from keras.layers import Activation, Dense\n",
        "xtrain,xtest,ytrain,ytest = train_test_split(x,y,test_size=0.2,random_state=21)\n",
        "xtrain.shape, xtest.shape, ytrain.shape, ytest.shape"
      ],
      "metadata": {
        "colab": {
          "base_uri": "https://localhost:8080/"
        },
        "id": "2D8Lw2GlQ_Wn",
        "outputId": "3c2820de-cc95-4ff2-ce74-d107ca8c0bfa"
      },
      "execution_count": 11,
      "outputs": [
        {
          "output_type": "execute_result",
          "data": {
            "text/plain": [
              "((160, 4), (40, 4), (160, 5), (40, 5))"
            ]
          },
          "metadata": {},
          "execution_count": 11
        }
      ]
    },
    {
      "cell_type": "code",
      "source": [
        "################################## TASK 2 ################################# \n",
        "#Build the ANN model with (input layer, min 3 hidden layers & output layer)"
      ],
      "metadata": {
        "id": "QX5k5kKQRH_G"
      },
      "execution_count": 14,
      "outputs": []
    },
    {
      "cell_type": "code",
      "source": [
        "# ANN Model\n",
        "model = Sequential()\n",
        "model.add(Dense(8,input_dim=4,activation='relu'))\n",
        "#model.add(Dense(32,activation='relu'))\n",
        "model.add(Dense(26,activation='relu'))\n",
        "model.add(Dense(3,activation='softmax'))\n",
        "\n",
        "\n",
        "model.compile(optimizer='adam',loss='categorical_crossentropy',metrics=['accuracy'])\n",
        "\n",
        "\n",
        "model.summary()\n"
      ],
      "metadata": {
        "colab": {
          "base_uri": "https://localhost:8080/"
        },
        "id": "xV052xkeRTZi",
        "outputId": "dc211ebc-405d-4c8e-e08a-041c2dc51cb9"
      },
      "execution_count": 12,
      "outputs": [
        {
          "output_type": "stream",
          "name": "stdout",
          "text": [
            "Model: \"sequential\"\n",
            "_________________________________________________________________\n",
            " Layer (type)                Output Shape              Param #   \n",
            "=================================================================\n",
            " dense (Dense)               (None, 8)                 40        \n",
            "                                                                 \n",
            " dense_1 (Dense)             (None, 26)                234       \n",
            "                                                                 \n",
            " dense_2 (Dense)             (None, 3)                 81        \n",
            "                                                                 \n",
            "=================================================================\n",
            "Total params: 355\n",
            "Trainable params: 355\n",
            "Non-trainable params: 0\n",
            "_________________________________________________________________\n"
          ]
        }
      ]
    },
    {
      "cell_type": "code",
      "source": [
        "##########################TASK 3 ######################################\n",
        "#Test the model with random data"
      ],
      "metadata": {
        "id": "wUiwF71R0naY"
      },
      "execution_count": null,
      "outputs": []
    },
    {
      "cell_type": "code",
      "source": [
        "#Splitting the data into train and test\n",
        "from sklearn.model_selection import train_test_split\n",
        "xtrain,xtest,ytrain,ytest = train_test_split(x,y,test_size=0.2,random_state=21)\n",
        "xtrain.shape, xtest.shape, ytrain.shape, ytest.shape\n",
        "\n",
        "\n",
        "# Generate random data to test the model\n",
        "X_new = np.random.rand(5,4)\n",
        "\n",
        "\n",
        "# Predict the classes of the new data\n",
        "y_pred = model.predict(X_new)\n",
        "\n",
        "\n",
        "# Print the predicted classes\n",
        "print(y_pred)\n"
      ],
      "metadata": {
        "colab": {
          "base_uri": "https://localhost:8080/"
        },
        "id": "rv89SCa207G6",
        "outputId": "e58fbf4a-b78c-4f4b-b834-6d38f116ccdd"
      },
      "execution_count": 13,
      "outputs": [
        {
          "output_type": "stream",
          "name": "stdout",
          "text": [
            "1/1 [==============================] - 0s 218ms/step\n",
            "[[0.5326756  0.2357722  0.2315521 ]\n",
            " [0.4383986  0.2859176  0.27568376]\n",
            " [0.47982934 0.25270465 0.26746598]\n",
            " [0.4943891  0.20811525 0.29749566]\n",
            " [0.5690267  0.17885818 0.2521152 ]]\n"
          ]
        }
      ]
    },
    {
      "cell_type": "code",
      "source": [
        "############################## THE END ################################"
      ],
      "metadata": {
        "id": "0ct1MW1H1ym4"
      },
      "execution_count": null,
      "outputs": []
    }
  ]
}